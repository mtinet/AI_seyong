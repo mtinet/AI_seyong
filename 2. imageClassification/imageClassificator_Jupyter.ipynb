{
 "cells": [
  {
   "cell_type": "code",
   "execution_count": 1,
   "id": "coral-wages",
   "metadata": {},
   "outputs": [
    {
     "name": "stdout",
     "output_type": "stream",
     "text": [
      "Model: \"sequential\"\n",
      "_________________________________________________________________\n",
      "Layer (type)                 Output Shape              Param #   \n",
      "=================================================================\n",
      "resnet50 (Functional)        (None, 7, 7, 2048)        23587712  \n",
      "_________________________________________________________________\n",
      "global_average_pooling2d (Gl (None, 2048)              0         \n",
      "_________________________________________________________________\n",
      "dense (Dense)                (None, 3)                 6147      \n",
      "=================================================================\n",
      "Total params: 23,593,859\n",
      "Trainable params: 6,147\n",
      "Non-trainable params: 23,587,712\n",
      "_________________________________________________________________\n"
     ]
    }
   ],
   "source": [
    "import cv2\n",
    "import numpy as np\n",
    "from tensorflow.keras.models import load_model\n",
    "from tensorflow.keras.applications.resnet50 import preprocess_input\n",
    "from tensorflow.keras.preprocessing.image import img_to_array\n",
    "from PIL import ImageFont, ImageDraw, Image\n",
    "import time\n",
    "\n",
    "#%%\n",
    "model = load_model('model.h5')\n",
    "model.summary()"
   ]
  },
  {
   "cell_type": "code",
   "execution_count": 6,
   "id": "entire-intellectual",
   "metadata": {},
   "outputs": [
    {
     "name": "stdout",
     "output_type": "stream",
     "text": [
      "[0.14 0.79 0.06]\n",
      "1\n",
      "[0.16 0.78 0.06]\n",
      "1\n",
      "[0.13 0.81 0.06]\n",
      "1\n",
      "[0.03 0.02 0.95]\n",
      "2\n",
      "[0.03 0.01 0.96]\n",
      "2\n",
      "[0.06 0.03 0.92]\n",
      "2\n",
      "[0.28 0.65 0.07]\n",
      "1\n",
      "[0.67 0.21 0.12]\n",
      "0\n",
      "[0.69 0.19 0.12]\n",
      "0\n"
     ]
    }
   ],
   "source": [
    "# open webcam (웹캠 열기)\n",
    "webcam = cv2.VideoCapture(0)\n",
    "\n",
    "if not webcam.isOpened():\n",
    "    print(\"Could not open webcam\")\n",
    "    exit()\n",
    "\n",
    "# loop through frames\n",
    "while webcam.isOpened():\n",
    "\n",
    "    # read frame from webcam\n",
    "    status, frame = webcam.read()\n",
    "\n",
    "    if not status:\n",
    "        break\n",
    "\n",
    "    # 이미지 높이, 폭 추출\n",
    "    h = frame.shape[0]\n",
    "    w = frame.shape[1]\n",
    "\n",
    "    # 이미지를 teachable machine이 학습할 때 사용하는 이미지 비율로 크롭\n",
    "    frame = frame[0:h, int((w-h)/2):int(w-((w-h)/2))]\n",
    "\n",
    "    img = cv2.resize(frame, (224, 224), interpolation = cv2.INTER_AREA)\n",
    "    x = img_to_array(img)\n",
    "    x = np.expand_dims(x, axis=0)\n",
    "    x = preprocess_input(x)\n",
    "    \n",
    "    prediction = model.predict(x)\n",
    "    predicted_class = np.argmax(prediction[0]) # 예측된 클래스 0, 1, 2\n",
    "\n",
    "    if predicted_class == 0:\n",
    "        me = \"왼손\"\n",
    "    elif predicted_class == 1:\n",
    "        me = \"오른손\"\n",
    "    elif predicted_class == 2:\n",
    "        me = \"가만히\"\n",
    "\n",
    "    # display\n",
    "    fontpath = \"font/gulim.ttc\"\n",
    "    font1 = ImageFont.truetype(fontpath, 100)\n",
    "    frame_pil = Image.fromarray(frame)\n",
    "    draw = ImageDraw.Draw(frame_pil)\n",
    "    draw.text((50, 50), me, font=font1, fill=(0, 0, 255, 3))\n",
    "    frame = np.array(frame_pil)\n",
    "    cv2.imshow('RPS', frame)\n",
    "        \n",
    "        \n",
    "    if cv2.waitKey(1) & 0xFF == ord('s'):\n",
    "        print(np.round(prediction[0], 2))\n",
    "        print(predicted_class)\n",
    "\n",
    "    # press \"Q\" to stop\n",
    "    if cv2.waitKey(1) & 0xFF == ord('q'):\n",
    "        break\n",
    "\n",
    "# release resources\n",
    "webcam.release()\n",
    "cv2.destroyAllWindows()"
   ]
  },
  {
   "cell_type": "code",
   "execution_count": null,
   "id": "dimensional-springfield",
   "metadata": {},
   "outputs": [],
   "source": []
  }
 ],
 "metadata": {
  "kernelspec": {
   "display_name": "Python 3",
   "language": "python",
   "name": "python3"
  },
  "language_info": {
   "codemirror_mode": {
    "name": "ipython",
    "version": 3
   },
   "file_extension": ".py",
   "mimetype": "text/x-python",
   "name": "python",
   "nbconvert_exporter": "python",
   "pygments_lexer": "ipython3",
   "version": "3.8.6"
  }
 },
 "nbformat": 4,
 "nbformat_minor": 5
}
