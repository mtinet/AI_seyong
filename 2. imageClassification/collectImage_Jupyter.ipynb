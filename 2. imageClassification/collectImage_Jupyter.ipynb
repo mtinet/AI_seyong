{
 "cells": [
  {
   "cell_type": "code",
   "execution_count": 1,
   "id": "august-designation",
   "metadata": {},
   "outputs": [],
   "source": [
    "import cv2"
   ]
  },
  {
   "cell_type": "code",
   "execution_count": 2,
   "id": "suited-circus",
   "metadata": {},
   "outputs": [],
   "source": [
    "# open webcam (웹캠 열기)\n",
    "webcam = cv2.VideoCapture(0)\n",
    "\n",
    "if not webcam.isOpened():\n",
    "    print(\"Could not open webcam\")\n",
    "    exit()\n",
    "\n",
    "\n",
    "sample_num = 0\n",
    "captured_num = 0"
   ]
  },
  {
   "cell_type": "code",
   "execution_count": 3,
   "id": "improving-advertiser",
   "metadata": {},
   "outputs": [],
   "source": [
    "sample_num = 0\n",
    "captured_num = 0\n",
    "\n",
    "# loop through frames\n",
    "while webcam.isOpened():\n",
    "\n",
    "    # read frame from webcam\n",
    "    status, frame = webcam.read()\n",
    "    sample_num = sample_num + 1\n",
    "\n",
    "    if not status:\n",
    "        break\n",
    "        \n",
    "    # 이미지 높이, 폭 추출\n",
    "    h = frame.shape[0]\n",
    "    w = frame.shape[1]\n",
    "\n",
    "    # display output\n",
    "    cv2.imshow(\"captured frames\", frame)\n",
    "    frame = frame[0:h, int((w-h)/2):int(w-((w-h)/2))]\n",
    "\n",
    "    if sample_num == 8:\n",
    "        captured_num = captured_num + 1\n",
    "        # 폴더를 먼저 만들어 놓아야 저장이 됨, 폴더 안에 기존 사진은 모두 삭제\n",
    "        cv2.imwrite('./ob1/img'+str(captured_num)+'.jpg', frame) # 첫번째 이미지 수집시\n",
    "        # cv2.imwrite('./ob2/img'+str(captured_num)+'.jpg', frame) # 두번째 이미지 수집시\n",
    "        # cv2.imwrite('./ob3/img'+str(captured_num)+'.jpg', frame) # 세번째 이미지 수집시\n",
    "        sample_num = 0\n",
    "\n",
    "\n",
    "    # press \"Q\" to stop\n",
    "    if cv2.waitKey(1) & 0xFF == ord('q'):\n",
    "        break\n",
    "\n",
    "# release resources\n",
    "webcam.release()\n",
    "cv2.destroyAllWindows()"
   ]
  },
  {
   "cell_type": "code",
   "execution_count": null,
   "id": "auburn-china",
   "metadata": {},
   "outputs": [],
   "source": []
  }
 ],
 "metadata": {
  "kernelspec": {
   "display_name": "Python 3",
   "language": "python",
   "name": "python3"
  },
  "language_info": {
   "codemirror_mode": {
    "name": "ipython",
    "version": 3
   },
   "file_extension": ".py",
   "mimetype": "text/x-python",
   "name": "python",
   "nbconvert_exporter": "python",
   "pygments_lexer": "ipython3",
   "version": "3.8.6"
  }
 },
 "nbformat": 4,
 "nbformat_minor": 5
}
