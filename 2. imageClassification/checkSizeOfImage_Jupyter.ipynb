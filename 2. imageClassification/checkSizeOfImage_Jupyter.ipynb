{
 "cells": [
  {
   "cell_type": "code",
   "execution_count": 1,
   "id": "equipped-desperate",
   "metadata": {},
   "outputs": [],
   "source": [
    "import os\n",
    "import numpy as np\n",
    "import tensorflow as tf\n",
    "from tensorflow.keras import Sequential\n",
    "from tensorflow.keras.layers import Dense, GlobalAveragePooling2D\n",
    "from tensorflow.keras.applications.resnet50 import ResNet50, preprocess_input\n",
    "from tensorflow.keras.preprocessing.image import load_img, img_to_array"
   ]
  },
  {
   "cell_type": "code",
   "execution_count": 2,
   "id": "heavy-texture",
   "metadata": {},
   "outputs": [],
   "source": [
    "path_dir1 = './ob1/'\n",
    "path_dir2 = './ob2/'\n",
    "path_dir3 = './ob3/'\n",
    "\n",
    "file_list1 = os.listdir(path_dir1) # path에 존재하는 파일 목록 가져오기\n",
    "file_list2 = os.listdir(path_dir2)\n",
    "file_list3 = os.listdir(path_dir3)"
   ]
  },
  {
   "cell_type": "code",
   "execution_count": 3,
   "id": "equivalent-hungary",
   "metadata": {},
   "outputs": [],
   "source": [
    "#%% train용 이미지 준비\n",
    "num = 0;\n",
    "train_img = np.float32(np.zeros((210, 224, 224, 3))) # 첫번째 칸이 사진 전체 갯수\n",
    "train_label = np.float64(np.zeros((210, 1)))"
   ]
  },
  {
   "cell_type": "code",
   "execution_count": 4,
   "id": "cleared-mexican",
   "metadata": {},
   "outputs": [],
   "source": [
    "img_path = path_dir1+'img1.jpg'\n",
    "img = load_img(img_path, target_size=(224, 224))\n",
    "img.show()\n",
    "\n"
   ]
  },
  {
   "cell_type": "code",
   "execution_count": null,
   "id": "suburban-korean",
   "metadata": {},
   "outputs": [],
   "source": []
  }
 ],
 "metadata": {
  "kernelspec": {
   "display_name": "Python 3",
   "language": "python",
   "name": "python3"
  },
  "language_info": {
   "codemirror_mode": {
    "name": "ipython",
    "version": 3
   },
   "file_extension": ".py",
   "mimetype": "text/x-python",
   "name": "python",
   "nbconvert_exporter": "python",
   "pygments_lexer": "ipython3",
   "version": "3.8.6"
  }
 },
 "nbformat": 4,
 "nbformat_minor": 5
}
